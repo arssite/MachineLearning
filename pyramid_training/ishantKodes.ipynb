{
  "nbformat": 4,
  "nbformat_minor": 0,
  "metadata": {
    "colab": {
      "provenance": [],
      "include_colab_link": true
    },
    "kernelspec": {
      "name": "python3",
      "display_name": "Python 3"
    },
    "language_info": {
      "name": "python"
    }
  },
  "cells": [
    {
      "cell_type": "markdown",
      "metadata": {
        "id": "view-in-github",
        "colab_type": "text"
      },
      "source": [
        "<a href=\"https://colab.research.google.com/github/arssite/MachineLearning/blob/main/pyramid_training/ishantKodes.ipynb\" target=\"_parent\"><img src=\"https://colab.research.google.com/assets/colab-badge.svg\" alt=\"Open In Colab\"/></a>"
      ]
    },
    {
      "cell_type": "code",
      "execution_count": null,
      "metadata": {
        "colab": {
          "base_uri": "https://localhost:8080/"
        },
        "id": "vMTdDbvT6DmC",
        "outputId": "726f242f-1797-405a-8f84-b102f635267e"
      },
      "outputs": [
        {
          "output_type": "stream",
          "name": "stdout",
          "text": [
            "fdsa\n",
            "asdf\n"
          ]
        }
      ],
      "source": [
        "a = input()\n",
        "print(a[::-1])"
      ]
    },
    {
      "cell_type": "code",
      "source": [
        "a = input()\n",
        "res = a[1::2] + a[::2]\n",
        "print(res)"
      ],
      "metadata": {
        "colab": {
          "base_uri": "https://localhost:8080/"
        },
        "id": "fvKmJR3d6Goy",
        "outputId": "6de95006-6c6d-4da9-c3ca-2ece74c1503d"
      },
      "execution_count": null,
      "outputs": [
        {
          "output_type": "stream",
          "name": "stdout",
          "text": [
            "afdg5tg\n",
            "fgtad5g\n"
          ]
        }
      ]
    },
    {
      "cell_type": "code",
      "source": [
        "a = input()\n",
        "b = input()\n",
        "print(a.count(b))"
      ],
      "metadata": {
        "colab": {
          "base_uri": "https://localhost:8080/"
        },
        "id": "MQU5ukeg6crh",
        "outputId": "f9059508-5b0d-421a-ce4b-9b9522b47f2f"
      },
      "execution_count": null,
      "outputs": [
        {
          "output_type": "stream",
          "name": "stdout",
          "text": [
            "Data Structures & Algorithms\n",
            "s\n",
            "2\n"
          ]
        }
      ]
    },
    {
      "cell_type": "code",
      "source": [
        "vowels = \"aeiouAEIOU\"\n",
        "a = input()\n",
        "res = \"Yes\"\n",
        "for i in a:\n",
        "    if i not in vowels:\n",
        "        res = \"No\"\n",
        "        break\n",
        "\n",
        "print(res)\n"
      ],
      "metadata": {
        "id": "xENZrZIP6vzQ"
      },
      "execution_count": null,
      "outputs": []
    },
    {
      "cell_type": "code",
      "source": [
        "a = input()\n",
        "res = \"Yes\"\n",
        "for i in a:\n",
        "  if i.isnumeric():\n",
        "    continue\n",
        "  else:\n",
        "    res = \"No\"\n",
        "    break\n",
        "print(res)\n"
      ],
      "metadata": {
        "colab": {
          "base_uri": "https://localhost:8080/"
        },
        "id": "JfVHyuk_7VP4",
        "outputId": "67cdcafa-3654-4ed0-9572-5abf332f3b53"
      },
      "execution_count": null,
      "outputs": [
        {
          "output_type": "stream",
          "name": "stdout",
          "text": [
            "\"Smart-Interviews\"\n",
            "No\n"
          ]
        }
      ]
    },
    {
      "cell_type": "code",
      "source": [
        "vowels = \"aeiouAEIOU\"\n",
        "a = input()\n",
        "vowel_c = 0\n",
        "consonents_c = 0\n",
        "for i in a:\n",
        "    if i in vowels:\n",
        "        vowel_c += 1\n",
        "    else:\n",
        "        consonents_c += 1\n",
        "print(vowel_c, consonents_c)"
      ],
      "metadata": {
        "colab": {
          "base_uri": "https://localhost:8080/"
        },
        "id": "3Yg4mtnt8Xxw",
        "outputId": "aeda4b31-6e79-4fc5-89f6-b9c9341b498a"
      },
      "execution_count": null,
      "outputs": [
        {
          "output_type": "stream",
          "name": "stdout",
          "text": [
            "aBxbbiAasPw\n",
            "4 7\n"
          ]
        }
      ]
    },
    {
      "cell_type": "code",
      "source": [
        "a = input()\n",
        "res = \"\"\n",
        "for i in a:\n",
        "    if i.islower():\n",
        "        res += i.upper()\n",
        "    else:\n",
        "        res += i.lower()\n",
        "print(res)"
      ],
      "metadata": {
        "colab": {
          "base_uri": "https://localhost:8080/"
        },
        "id": "aGYA7m6i9y2o",
        "outputId": "cbae6a30-06e2-4325-8b4f-2671a6a3f782"
      },
      "execution_count": null,
      "outputs": [
        {
          "output_type": "stream",
          "name": "stdout",
          "text": [
            "abdBd\n",
            "ABDbD\n"
          ]
        }
      ]
    },
    {
      "cell_type": "code",
      "source": [
        "a = input()\n",
        "res = \"\"\n",
        "for i in a:\n",
        "  res += i+str(a.count(i))\n",
        "print(res)"
      ],
      "metadata": {
        "colab": {
          "base_uri": "https://localhost:8080/"
        },
        "id": "h9Fw3R0Q-Jex",
        "outputId": "4ce99923-be24-46a1-fdb2-c59571ebccf2"
      },
      "execution_count": null,
      "outputs": [
        {
          "output_type": "stream",
          "name": "stdout",
          "text": [
            "aaaBBBBhhhekkL\n",
            "a3a3a3B4B4B4B4h3h3h3e1k2k2L1\n"
          ]
        }
      ]
    },
    {
      "cell_type": "code",
      "source": [
        "def compress_string(s):\n",
        "    if not s:\n",
        "        return \"\"\n",
        "\n",
        "    compressed = []\n",
        "    count = 1\n",
        "    for i in range(1, len(s)):\n",
        "        if s[i] == s[i - 1]:\n",
        "            count += 1\n",
        "        else:\n",
        "            compressed.append(f\"{s[i - 1]}{count}\")\n",
        "            count = 1\n",
        "    compressed.append(f\"{s[-1]}{count}\")\n",
        "\n",
        "    return ''.join(compressed)\n",
        "\n",
        "\n",
        "s = input().strip()\n",
        "print(compress_string(s))\n"
      ],
      "metadata": {
        "colab": {
          "base_uri": "https://localhost:8080/"
        },
        "id": "I27ekjgs-mfQ",
        "outputId": "4dac9a4e-e81a-48b8-fd11-ef16ef68dd56"
      },
      "execution_count": null,
      "outputs": [
        {
          "output_type": "stream",
          "name": "stdout",
          "text": [
            "aaaBBBBhhhekkL\n",
            "a3B4h3e1k2L1\n"
          ]
        }
      ]
    },
    {
      "cell_type": "code",
      "source": [
        "def longest_proper_prefix_suffix(s):\n",
        "    n = len(s)\n",
        "    lps = [0] * n\n",
        "\n",
        "    length = 0\n",
        "    i = 1\n",
        "\n",
        "    while i < n:\n",
        "        if s[i] == s[length]:\n",
        "            length += 1\n",
        "            lps[i] = length\n",
        "            i += 1\n",
        "        else:\n",
        "            if length != 0:\n",
        "                length = lps[length - 1]\n",
        "            else:\n",
        "                lps[i] = 0\n",
        "                i += 1\n",
        "\n",
        "    return lps[-1]\n",
        "\n",
        "\n",
        "s = input().strip()\n",
        "print(longest_proper_prefix_suffix(s))\n"
      ],
      "metadata": {
        "colab": {
          "base_uri": "https://localhost:8080/"
        },
        "id": "UInSKXfD--Ow",
        "outputId": "83e0cb9f-6561-432b-d11c-ebfed660e74e"
      },
      "execution_count": null,
      "outputs": [
        {
          "output_type": "stream",
          "name": "stdout",
          "text": [
            "smartintsmart\n",
            "5\n"
          ]
        }
      ]
    },
    {
      "cell_type": "code",
      "source": [
        "for _ in range(int(input())):\n",
        "  a = input()\n",
        "  res = \".\"\n",
        "  for i in a:\n",
        "    if a.count(i) > 1:\n",
        "      res = i\n",
        "      break\n",
        "  print(res)"
      ],
      "metadata": {
        "colab": {
          "base_uri": "https://localhost:8080/"
        },
        "id": "FptFtJfSAIRm",
        "outputId": "88c1565a-773e-4b07-a3f3-2dd57abda69b"
      },
      "execution_count": null,
      "outputs": [
        {
          "output_type": "stream",
          "name": "stdout",
          "text": [
            "4\n",
            "datastructures\n",
            "a\n",
            "algorithms\n",
            ".\n",
            "smartinterviews\n",
            "s\n",
            "hackerrank\n",
            "a\n"
          ]
        }
      ]
    },
    {
      "cell_type": "code",
      "source": [
        "for _ in range(int(input())):\n",
        "  a = input().strip()\n",
        "  vowels = \"aeiouAEIOU\"\n",
        "  v_c = 0\n",
        "  noOfwords = len(a.split())\n",
        "  for i in a:\n",
        "    if i in vowels:\n",
        "      v_c += 1\n",
        "  print(noOfwords, v_c, len(a)- v_c- a.count(\" \"))"
      ],
      "metadata": {
        "colab": {
          "base_uri": "https://localhost:8080/"
        },
        "id": "QjB1jiK-AbV3",
        "outputId": "45842de8-182d-40c7-c01b-c7fbaf030cb7"
      },
      "execution_count": null,
      "outputs": [
        {
          "output_type": "stream",
          "name": "stdout",
          "text": [
            "1\n",
            "         Exception\n",
            "1 4 5\n"
          ]
        }
      ]
    },
    {
      "cell_type": "code",
      "source": [
        "for _ in range(int(input())):\n",
        "  n,p = map(int,input().split())\n",
        "  print(n%p)"
      ],
      "metadata": {
        "colab": {
          "base_uri": "https://localhost:8080/",
          "height": 280
        },
        "id": "EnJW1PBGB3dA",
        "outputId": "36ef5e14-ca55-4dc0-c1eb-b507dce9a66f"
      },
      "execution_count": null,
      "outputs": [
        {
          "name": "stdout",
          "output_type": "stream",
          "text": [
            "4\n",
            "5 2\n",
            "1\n",
            "1085377843 81765943\n",
            "22420584\n",
            "a\n"
          ]
        },
        {
          "output_type": "error",
          "ename": "ValueError",
          "evalue": "invalid literal for int() with base 10: 'a'",
          "traceback": [
            "\u001b[0;31m---------------------------------------------------------------------------\u001b[0m",
            "\u001b[0;31mValueError\u001b[0m                                Traceback (most recent call last)",
            "\u001b[0;32m<ipython-input-32-442a5b00dfd3>\u001b[0m in \u001b[0;36m<cell line: 1>\u001b[0;34m()\u001b[0m\n\u001b[1;32m      1\u001b[0m \u001b[0;32mfor\u001b[0m \u001b[0m_\u001b[0m \u001b[0;32min\u001b[0m \u001b[0mrange\u001b[0m\u001b[0;34m(\u001b[0m\u001b[0mint\u001b[0m\u001b[0;34m(\u001b[0m\u001b[0minput\u001b[0m\u001b[0;34m(\u001b[0m\u001b[0;34m)\u001b[0m\u001b[0;34m)\u001b[0m\u001b[0;34m)\u001b[0m\u001b[0;34m:\u001b[0m\u001b[0;34m\u001b[0m\u001b[0;34m\u001b[0m\u001b[0m\n\u001b[0;32m----> 2\u001b[0;31m   \u001b[0mn\u001b[0m\u001b[0;34m,\u001b[0m\u001b[0mp\u001b[0m \u001b[0;34m=\u001b[0m \u001b[0mmap\u001b[0m\u001b[0;34m(\u001b[0m\u001b[0mint\u001b[0m\u001b[0;34m,\u001b[0m\u001b[0minput\u001b[0m\u001b[0;34m(\u001b[0m\u001b[0;34m)\u001b[0m\u001b[0;34m.\u001b[0m\u001b[0msplit\u001b[0m\u001b[0;34m(\u001b[0m\u001b[0;34m)\u001b[0m\u001b[0;34m)\u001b[0m\u001b[0;34m\u001b[0m\u001b[0;34m\u001b[0m\u001b[0m\n\u001b[0m\u001b[1;32m      3\u001b[0m   \u001b[0mprint\u001b[0m\u001b[0;34m(\u001b[0m\u001b[0mn\u001b[0m\u001b[0;34m%\u001b[0m\u001b[0mp\u001b[0m\u001b[0;34m)\u001b[0m\u001b[0;34m\u001b[0m\u001b[0;34m\u001b[0m\u001b[0m\n",
            "\u001b[0;31mValueError\u001b[0m: invalid literal for int() with base 10: 'a'"
          ]
        }
      ]
    },
    {
      "cell_type": "code",
      "source": [
        "for _ in range(int(input())):\n",
        "  a = input().split()\n",
        "\n"
      ],
      "metadata": {
        "colab": {
          "base_uri": "https://localhost:8080/"
        },
        "id": "bxqnprjmC4vH",
        "outputId": "81c69006-6e85-4407-85ff-b76db3c24579"
      },
      "execution_count": null,
      "outputs": [
        {
          "output_type": "stream",
          "name": "stdout",
          "text": [
            "1\n",
            "b h\n",
            "['b', 'h']\n"
          ]
        }
      ]
    },
    {
      "cell_type": "code",
      "source": [
        "a = int(input())\n",
        "b = input().lower()\n",
        "c = set(b)\n",
        "\n",
        "if len(c) == 26:\n",
        "  print(\"YES\")\n",
        "else:\n",
        "  print(\"NO\")"
      ],
      "metadata": {
        "colab": {
          "base_uri": "https://localhost:8080/"
        },
        "id": "r4XoTauYEA1f",
        "outputId": "0b308e67-37b5-4913-d16b-2d3c9d63842e"
      },
      "execution_count": null,
      "outputs": [
        {
          "output_type": "stream",
          "name": "stdout",
          "text": [
            "2\n",
            "TheQuickBrownFoxJumpsOverTheLazyDog\n",
            "{'c', 'w', 'y', 'v', 'n', 'r', 'g', 't', 's', 'i', 'q', 'f', 'e', 'k', 'b', 'z', 'm', 'd', 'j', 'p', 'a', 'l', 'x', 'u', 'o', 'h'}\n",
            "YES\n"
          ]
        }
      ]
    },
    {
      "cell_type": "code",
      "source": [
        "for _ in range(int(input())):\n",
        "  a = input().split()\n",
        "  print(sorted(a[0]) == sorted(a[1]))"
      ],
      "metadata": {
        "colab": {
          "base_uri": "https://localhost:8080/"
        },
        "id": "iSY5Db8yG6ql",
        "outputId": "07b6d638-01f6-400e-a8dd-8b1e75c88f51"
      },
      "execution_count": null,
      "outputs": [
        {
          "output_type": "stream",
          "name": "stdout",
          "text": [
            "1\n",
            "b h\n",
            "False\n"
          ]
        }
      ]
    },
    {
      "cell_type": "code",
      "source": [],
      "metadata": {
        "id": "UgCC7OTVHjyv"
      },
      "execution_count": null,
      "outputs": []
    }
  ]
}